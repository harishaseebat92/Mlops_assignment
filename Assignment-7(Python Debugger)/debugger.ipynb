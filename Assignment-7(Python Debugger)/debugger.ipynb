{
 "cells": [
  {
   "cell_type": "code",
   "execution_count": null,
   "metadata": {},
   "outputs": [
    {
     "name": "stdout",
     "output_type": "stream",
     "text": [
      "Initial Data:\n",
      " [[1. 2. 3.]\n",
      " [4. 5. 6.]\n",
      " [7. 8. 9.]]\n",
      "Processed Data:\n",
      " [[-0.40824829 -0.40824829 -0.40824829]\n",
      " [ 0.          0.          0.        ]\n",
      " [ 0.40824829  0.40824829  0.40824829]]\n"
     ]
    }
   ],
   "source": [
    "import pdb\n",
    "import numpy as np\n",
    "from sklearn.preprocessing import StandardScaler\n",
    "def preprocess_data(data):\n",
    "    scaler = StandardScaler()\n",
    "    # pdb.set_trace() # Start debugger here\n",
    "    scaled_data = scaler.fit_transform(data)\n",
    "    normalized_data = scaled_data / np.linalg.norm(scaled_data)\n",
    "    return normalized_data\n",
    "# Example Data\n",
    "data = np.array([[1, 2, 3], [4, 5, np.nan], [7, 8, 9]])\n",
    "col_means = np.nanmean(data, axis=0)\n",
    "# Identify indices where NaN values are located\n",
    "inds = np.isnan(data)\n",
    "# Replace NaNs with the respective column means\n",
    "data[inds] = np.take(col_means, np.where(inds)[1])\n",
    "processed_data = preprocess_data(data)\n",
    "print(\"Initial Data:\\n\", data)\n",
    "print(\"Processed Data:\\n\", processed_data)\n",
    "\n",
    "\n",
    "# (Pdb) pp np.linalg.norm(scaled_data) = nan this is the point of error because \n",
    "# norm cannot be computed correctly if any value is undefined.\n",
    "#  pp normalized_data array = ([[nan, nan, nan],[nan, nan, nan],[nan, nan, nan]]) \n",
    "\n"
   ]
  },
  {
   "cell_type": "code",
   "execution_count": 22,
   "metadata": {},
   "outputs": [
    {
     "name": "stdout",
     "output_type": "stream",
     "text": [
      "[[ 1  1]\n",
      " [ 2  4]\n",
      " [ 3  9]\n",
      " [ 4 16]]\n",
      "Trained Model Coefficients: [-1.06450587e-15  1.00000000e+00]\n"
     ]
    }
   ],
   "source": [
    "from sklearn.linear_model import LinearRegression\n",
    "import numpy as np\n",
    "import pdb\n",
    "def train_model(X, y):\n",
    "    model = LinearRegression()\n",
    "   #  pdb.set_trace() # Debugger for model training\n",
    "    X_poly = np.hstack([X, X**2])  # Add quadratic terms\n",
    "    print(X_poly)\n",
    "    model.fit(X_poly, y)\n",
    "    return model\n",
    "# Example Data\n",
    "X = np.array([[1], [2], [3], [4]])\n",
    "y = np.array([1, 4, 9, 16, 25]) # Incorrect shape on purpose\n",
    "y = y[:X.shape[0]]  # Slice y to keep the first 4 elements\n",
    "\n",
    "trained_model = train_model(X, y)\n",
    "print(\"Trained Model Coefficients:\", trained_model.coef_)\n",
    "\n",
    "# (Pdb) X.shape = (4, 1) implies that we have 4 samples, each with 1 feature.\n",
    "# (Pdb) y.shape = (5,) implies that we have 5 target values, but only 4 samples in X, causing the mismatch.\n",
    "# Use y = y[:X.shape[0]]  # Slice y to keep the first 4 elements\n",
    "\n",
    "\n",
    "# (Pdb) X.shape\n",
    "# (4, 1)\n",
    "# (Pdb) y.shape\n",
    "# (4,)\n",
    "\n",
    "# Trained Model Coefficients: [5.]"
   ]
  },
  {
   "cell_type": "markdown",
   "metadata": {},
   "source": [
    "## TASK 3\n",
    "The core issue arises because the relationship between the **features ($X$)** and the target variable ($y$) is **non-linear (quadratic)**, but the **Linear Regression model** assumes a linear relationship. \n",
    "---\n",
    "\n",
    "## Proposed Solutions\n",
    "\n",
    "### **1. Polynomial Model**\n",
    "The polynomial model transforms the original feature space by including additional terms representing higher-degree powers of the original features (e.g., quadratic, cubic). By introducing these terms, the model can approximate non-linear relationships while still using a linear algorithm.\n",
    "\n",
    "#### Implementation:\n",
    "- Add quadratic terms to $X$ to create a new feature matrix: \n",
    "$$\n",
    "  X_{\\text{poly}} = [X, X^2]\n",
    "  $$\n",
    "\n",
    "#### Purpose:\n",
    "This approach allows the **Linear Regression** model to approximate the true quadratic relationship by leveraging these additional polynomial features.\n",
    "\n",
    "---\n",
    "\n",
    "### **2. Using `np.hstack`**\n",
    "The `np.hstack` function is used to horizontally stack arrays. It is particularly useful for creating the expanded feature matrix by combining the original features ($X$) with their polynomial terms ($X^2$).\n",
    "\n",
    "#### Implementation:\n",
    "<!-- ```python -->\n",
    "$$\n",
    "X_{\\text{poly}} = \\text{np.hstack}([X, X^2])\n",
    "$$\n",
    "\n",
    "\n",
    "Trained Model Coefficients:\n",
    "$[-1.06450587 \\times 10^{-15}, 1.00000000]$\n",
    "\n",
    "Mean Squared Error:\n",
    "$1.262177448353619 \\times 10^{-28}$\n",
    "\n",
    "Prediction:\n",
    "$[25.0, 36.0, 49.0, 64.0]$\n",
    "\n",
    "$y_{\\text{test}}$:\n",
    "$[25, 36, 49, 64]$\n"
   ]
  },
  {
   "cell_type": "code",
   "execution_count": null,
   "metadata": {},
   "outputs": [
    {
     "name": "stdout",
     "output_type": "stream",
     "text": [
      "[25. 36. 49. 64.]\n",
      "Mean Squared Error: 1.262177448353619e-28\n"
     ]
    }
   ],
   "source": [
    "from sklearn.metrics import mean_squared_error\n",
    "import numpy as np\n",
    "def evaluate_model(model, X_test, y_test):\n",
    "    X_test_poly = np.hstack([X_test, X_test**2])\n",
    "    predictions = model.predict(X_test_poly)\n",
    "    # pdb.set_trace() # Debugger for evaluation\n",
    "    print(predictions)\n",
    "    mse = mean_squared_error(y_test, predictions)\n",
    "    return mse\n",
    "X_test = np.array([[5], [6], [7], [8]])\n",
    "y_test = np.array([25, 36, 49, 64])\n",
    "# Using trained_model from previous task\n",
    "mse_score = evaluate_model(trained_model, X_test, y_test)\n",
    "print(\"Mean Squared Error:\", mse_score)\n",
    "\n",
    "\n",
    "\n",
    "# Using trained_model from previous task\n",
    "mse_score = evaluate_model(trained_model, X_test, y_test)\n",
    "print(\"Mean Squared Error:\", mse_score)\n",
    "\n",
    "# > <ipython-input-5-b9bb8dc4aa8d>(7)evaluate_model()\n",
    "#       5     # pdb.set_trace() # Debugger for evaluation\n",
    "#       6     breakpoint()\n",
    "# ----> 7     mse = mean_squared_error(y_test, predictions)\n",
    "#       8     return mse\n",
    "#       9 X_test = np.array([[5], [6], [7], [8]])\n",
    "\n",
    "# ipdb> pp predictions\n",
    "# array([20., 25., 30., 35.])\n",
    "# ipdb> pp y_test\n",
    "# array([25, 36, 49, 64])"
   ]
  }
 ],
 "metadata": {
  "kernelspec": {
   "display_name": "qiskit",
   "language": "python",
   "name": "python3"
  },
  "language_info": {
   "codemirror_mode": {
    "name": "ipython",
    "version": 3
   },
   "file_extension": ".py",
   "mimetype": "text/x-python",
   "name": "python",
   "nbconvert_exporter": "python",
   "pygments_lexer": "ipython3",
   "version": "3.12.2"
  }
 },
 "nbformat": 4,
 "nbformat_minor": 2
}
