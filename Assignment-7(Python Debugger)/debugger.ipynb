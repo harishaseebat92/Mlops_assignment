{
 "cells": [
  {
   "cell_type": "code",
   "execution_count": 1,
   "metadata": {},
   "outputs": [
    {
     "ename": "IndentationError",
     "evalue": "expected an indented block after function definition on line 4 (1811860705.py, line 5)",
     "output_type": "error",
     "traceback": [
      "\u001b[1;36m  Cell \u001b[1;32mIn[1], line 5\u001b[1;36m\u001b[0m\n\u001b[1;33m    scaler = StandardScaler()\u001b[0m\n\u001b[1;37m    ^\u001b[0m\n\u001b[1;31mIndentationError\u001b[0m\u001b[1;31m:\u001b[0m expected an indented block after function definition on line 4\n"
     ]
    }
   ],
   "source": [
    "import pdb\n",
    "import numpy as np\n",
    "from sklearn.preprocessing import StandardScaler\n",
    "def preprocess_data(data):\n",
    "scaler = StandardScaler()\n",
    "pdb.set_trace() # Start debugger here\n",
    "scaled_data = scaler.fit_transform(data)\n",
    "normalized_data = scaled_data / np.linalg.norm(scaled_data)\n",
    "return normalized_data\n",
    "# Example Data\n",
    "data = np.array([[1, 2, 3], [4, 5, np.nan], [7, 8, 9]])\n",
    "processed_data = preprocess_data(data)\n",
    "print(\"Processed Data:\\n\", processed_data)"
   ]
  },
  {
   "cell_type": "code",
   "execution_count": 2,
   "metadata": {},
   "outputs": [
    {
     "name": "stdout",
     "output_type": "stream",
     "text": [
      "3 * 2 is 6\n"
     ]
    }
   ],
   "source": [
    "def double(x):\n",
    "   breakpoint()\n",
    "   return x * 2\n",
    "val = 3\n",
    "print(f\"{val} * 2 is {double(val)}\")"
   ]
  }
 ],
 "metadata": {
  "kernelspec": {
   "display_name": "qiskit",
   "language": "python",
   "name": "python3"
  },
  "language_info": {
   "codemirror_mode": {
    "name": "ipython",
    "version": 3
   },
   "file_extension": ".py",
   "mimetype": "text/x-python",
   "name": "python",
   "nbconvert_exporter": "python",
   "pygments_lexer": "ipython3",
   "version": "3.12.2"
  }
 },
 "nbformat": 4,
 "nbformat_minor": 2
}
