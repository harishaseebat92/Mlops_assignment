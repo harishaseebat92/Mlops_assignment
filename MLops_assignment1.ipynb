{
  "nbformat": 4,
  "nbformat_minor": 0,
  "metadata": {
    "colab": {
      "provenance": []
    },
    "kernelspec": {
      "name": "python3",
      "display_name": "Python 3"
    },
    "language_info": {
      "name": "python"
    }
  },
  "cells": [
    {
      "cell_type": "markdown",
      "source": [
        "## MLOps Assignment 1"
      ],
      "metadata": {
        "id": "LlIGlcIiywyq"
      }
    },
    {
      "cell_type": "markdown",
      "source": [
        "[link text](https://)Q1. Print multiplication table from 1 to 10"
      ],
      "metadata": {
        "id": "i3GplYoCqa89"
      }
    },
    {
      "cell_type": "code",
      "source": [
        "#write here and run the cell\n",
        "# Multiplication table of 1 to 10\n",
        "\n",
        "for i in range(1,11):\n",
        "    print(\"\\n\\nMULTIPLICATION TABLE FOR %d\\n\" %(i))\n",
        "    for j in range(1,11):\n",
        "        print(\"%-5d X %5d = %5d\" % (i, j, i*j))\n",
        "\n"
      ],
      "metadata": {
        "id": "Vfm5RBY0qbIs",
        "outputId": "eafdbbae-099d-4dcb-8144-6d3d8b7d1bdc",
        "colab": {
          "base_uri": "https://localhost:8080/"
        }
      },
      "execution_count": null,
      "outputs": [
        {
          "output_type": "stream",
          "name": "stdout",
          "text": [
            "\n",
            "\n",
            "MULTIPLICATION TABLE FOR 1\n",
            "\n",
            "1     X     1 =     1\n",
            "1     X     2 =     2\n",
            "1     X     3 =     3\n",
            "1     X     4 =     4\n",
            "1     X     5 =     5\n",
            "1     X     6 =     6\n",
            "1     X     7 =     7\n",
            "1     X     8 =     8\n",
            "1     X     9 =     9\n",
            "1     X    10 =    10\n",
            "\n",
            "\n",
            "MULTIPLICATION TABLE FOR 2\n",
            "\n",
            "2     X     1 =     2\n",
            "2     X     2 =     4\n",
            "2     X     3 =     6\n",
            "2     X     4 =     8\n",
            "2     X     5 =    10\n",
            "2     X     6 =    12\n",
            "2     X     7 =    14\n",
            "2     X     8 =    16\n",
            "2     X     9 =    18\n",
            "2     X    10 =    20\n",
            "\n",
            "\n",
            "MULTIPLICATION TABLE FOR 3\n",
            "\n",
            "3     X     1 =     3\n",
            "3     X     2 =     6\n",
            "3     X     3 =     9\n",
            "3     X     4 =    12\n",
            "3     X     5 =    15\n",
            "3     X     6 =    18\n",
            "3     X     7 =    21\n",
            "3     X     8 =    24\n",
            "3     X     9 =    27\n",
            "3     X    10 =    30\n",
            "\n",
            "\n",
            "MULTIPLICATION TABLE FOR 4\n",
            "\n",
            "4     X     1 =     4\n",
            "4     X     2 =     8\n",
            "4     X     3 =    12\n",
            "4     X     4 =    16\n",
            "4     X     5 =    20\n",
            "4     X     6 =    24\n",
            "4     X     7 =    28\n",
            "4     X     8 =    32\n",
            "4     X     9 =    36\n",
            "4     X    10 =    40\n",
            "\n",
            "\n",
            "MULTIPLICATION TABLE FOR 5\n",
            "\n",
            "5     X     1 =     5\n",
            "5     X     2 =    10\n",
            "5     X     3 =    15\n",
            "5     X     4 =    20\n",
            "5     X     5 =    25\n",
            "5     X     6 =    30\n",
            "5     X     7 =    35\n",
            "5     X     8 =    40\n",
            "5     X     9 =    45\n",
            "5     X    10 =    50\n",
            "\n",
            "\n",
            "MULTIPLICATION TABLE FOR 6\n",
            "\n",
            "6     X     1 =     6\n",
            "6     X     2 =    12\n",
            "6     X     3 =    18\n",
            "6     X     4 =    24\n",
            "6     X     5 =    30\n",
            "6     X     6 =    36\n",
            "6     X     7 =    42\n",
            "6     X     8 =    48\n",
            "6     X     9 =    54\n",
            "6     X    10 =    60\n",
            "\n",
            "\n",
            "MULTIPLICATION TABLE FOR 7\n",
            "\n",
            "7     X     1 =     7\n",
            "7     X     2 =    14\n",
            "7     X     3 =    21\n",
            "7     X     4 =    28\n",
            "7     X     5 =    35\n",
            "7     X     6 =    42\n",
            "7     X     7 =    49\n",
            "7     X     8 =    56\n",
            "7     X     9 =    63\n",
            "7     X    10 =    70\n",
            "\n",
            "\n",
            "MULTIPLICATION TABLE FOR 8\n",
            "\n",
            "8     X     1 =     8\n",
            "8     X     2 =    16\n",
            "8     X     3 =    24\n",
            "8     X     4 =    32\n",
            "8     X     5 =    40\n",
            "8     X     6 =    48\n",
            "8     X     7 =    56\n",
            "8     X     8 =    64\n",
            "8     X     9 =    72\n",
            "8     X    10 =    80\n",
            "\n",
            "\n",
            "MULTIPLICATION TABLE FOR 9\n",
            "\n",
            "9     X     1 =     9\n",
            "9     X     2 =    18\n",
            "9     X     3 =    27\n",
            "9     X     4 =    36\n",
            "9     X     5 =    45\n",
            "9     X     6 =    54\n",
            "9     X     7 =    63\n",
            "9     X     8 =    72\n",
            "9     X     9 =    81\n",
            "9     X    10 =    90\n",
            "\n",
            "\n",
            "MULTIPLICATION TABLE FOR 10\n",
            "\n",
            "10    X     1 =    10\n",
            "10    X     2 =    20\n",
            "10    X     3 =    30\n",
            "10    X     4 =    40\n",
            "10    X     5 =    50\n",
            "10    X     6 =    60\n",
            "10    X     7 =    70\n",
            "10    X     8 =    80\n",
            "10    X     9 =    90\n",
            "10    X    10 =   100\n"
          ]
        }
      ]
    },
    {
      "cell_type": "markdown",
      "source": [
        "Q2. Given two lists, l1 and l2, write a program to create a third list l3 by picking an odd-index element from the list l1 and even index elements from the list l2."
      ],
      "metadata": {
        "id": "kCxjfhGtiMFb"
      }
    },
    {
      "cell_type": "code",
      "source": [
        "\n",
        "def combined_list(l1, l2):\n",
        "    # Extract odd-index elements from l1\n",
        "    oie_l1 = [l1[i] for i in range(1, len(l1), 2)]\n",
        "\n",
        "    # Extract even-index elements from l2\n",
        "    eie_l2 = [l2[i] for i in range(0, len(l2), 2)]\n",
        "\n",
        "    # Combine the two lists\n",
        "    l3 = oie_l1 + eie_l2\n",
        "\n",
        "    return l3\n",
        "\n",
        "l1 = [10, 20, 30, 40, 50, 60]\n",
        "l2 = [1, 2, 3, 4, 5, 6, 7, 8]\n",
        "\n",
        "l3 = combined_list(l1, l2)\n",
        "\n",
        "print(\"List l3:\", l3)\n"
      ],
      "metadata": {
        "id": "r1lkQPN8iNSc",
        "outputId": "6da9d17b-1df5-43ad-af23-336ab8fff863",
        "colab": {
          "base_uri": "https://localhost:8080/"
        }
      },
      "execution_count": null,
      "outputs": [
        {
          "output_type": "stream",
          "name": "stdout",
          "text": [
            "List l3: [20, 40, 60, 1, 3, 5, 7]\n"
          ]
        }
      ]
    },
    {
      "cell_type": "markdown",
      "source": [
        "Q3. Print a this pattern(*)\n",
        "\n",
        "    * * * * * * * *\n",
        "      * * * * * * *\n",
        "        * * * * * *\n",
        "          * * * * *\n",
        "            * * * *\n",
        "              * * *\n",
        "                * *\n",
        "                  *"
      ],
      "metadata": {
        "id": "GBb0FgtIq4YA"
      }
    },
    {
      "cell_type": "code",
      "source": [
        "#write here and run the cell\n",
        "def print_pattern(n):\n",
        "  for i in range(n, 0, -1):\n",
        "    print(\" \" * (n - i)+\"*\"*i)\n",
        "\n",
        "print_pattern(8)\n",
        "\n",
        "\n"
      ],
      "metadata": {
        "id": "rfbGzuA3rcGs",
        "outputId": "4b040048-b6ba-445e-c440-16367058fc80",
        "colab": {
          "base_uri": "https://localhost:8080/"
        }
      },
      "execution_count": null,
      "outputs": [
        {
          "output_type": "stream",
          "name": "stdout",
          "text": [
            "********\n",
            " *******\n",
            "  ******\n",
            "   *****\n",
            "    ****\n",
            "     ***\n",
            "      **\n",
            "       *\n"
          ]
        }
      ]
    },
    {
      "cell_type": "markdown",
      "source": [
        "Q4. Create a function named `exponent(base, exp)` that returns an integer representing the result of raising `base` to the power of `exp`.\n",
        "`exp` is >0.\n",
        "\n",
        "base = 5\n",
        "exponent = 4\n",
        "\n",
        "5 raises to the power of 4 is: 625\n",
        "i.e. (5 *5 * 5 *5 = 625)"
      ],
      "metadata": {
        "id": "WIblh-z6s9me"
      }
    },
    {
      "cell_type": "code",
      "source": [
        "#write here and run the cell\n",
        "\n",
        "def exponent(base, exp):\n",
        "    result = 1\n",
        "    for _ in range(exp):\n",
        "        result *= base\n",
        "    return result\n",
        "\n",
        "exponent(5,4)"
      ],
      "metadata": {
        "id": "6-KKDQNWs8eQ",
        "outputId": "f49c4fe1-8126-410f-dc77-b4858c6858f9",
        "colab": {
          "base_uri": "https://localhost:8080/"
        }
      },
      "execution_count": null,
      "outputs": [
        {
          "output_type": "execute_result",
          "data": {
            "text/plain": [
              "625"
            ]
          },
          "metadata": {},
          "execution_count": 8
        }
      ]
    },
    {
      "cell_type": "markdown",
      "source": [
        "Q5. Create a file named test.txt and insert the following content into it.\n",
        "\n",
        "    line1\n",
        "    line2\n",
        "    line3\n",
        "    line4\n",
        "    line5\n",
        "    line6\n",
        "    line7\n",
        "\n",
        "Write a program which write all content of a given file (test.txt) into a new file by skipping line number 5 (line5)"
      ],
      "metadata": {
        "id": "_QUrD8h6t6PN"
      }
    },
    {
      "cell_type": "code",
      "source": [
        "#write here and run the cell\n",
        "\n",
        "with open('test.txt', 'w') as file:\n",
        "    file.write(\"line1\\n\")\n",
        "    file.write(\"line2\\n\")\n",
        "    file.write(\"line3\\n\")\n",
        "    file.write(\"line4\\n\")\n",
        "    file.write(\"line5\\n\")\n",
        "    file.write(\"line6\\n\")\n",
        "    file.write(\"line7\\n\")\n"
      ],
      "metadata": {
        "id": "I2KF1QHKrq-s"
      },
      "execution_count": null,
      "outputs": []
    },
    {
      "cell_type": "markdown",
      "source": [
        "Q6. Write a program which receives three names from the user in a single input() function call.\n",
        "\n",
        "    Input: IIT JODHPUR RAJASTHAN\n",
        "\n",
        "    Output:\n",
        "    IIT\n",
        "    JODHPUR\n",
        "    RAJASTHAN"
      ],
      "metadata": {
        "id": "6cdAt0ONvMVI"
      }
    },
    {
      "cell_type": "code",
      "source": [
        "#write here and run the cell\n",
        "\n",
        "def print_names():\n",
        "    user_input = input(\"Enter three names separated by spaces: \")\n",
        "    names = user_input.split()\n",
        "\n",
        "    for name in names:\n",
        "        print(name)\n",
        "\n",
        "# Call the function\n",
        "print_names()\n"
      ],
      "metadata": {
        "id": "Mo0wyeB6vJJm",
        "outputId": "e2c3d107-9ba9-4837-e39a-c24c80ea46ed",
        "colab": {
          "base_uri": "https://localhost:8080/"
        }
      },
      "execution_count": null,
      "outputs": [
        {
          "output_type": "stream",
          "name": "stdout",
          "text": [
            "Enter three names separated by spaces: haris haris\n",
            "haris\n",
            "haris\n"
          ]
        }
      ]
    },
    {
      "cell_type": "markdown",
      "source": [
        "Q7. Write a program to define a function called show_employee() with the following requirements:\n",
        "\n",
        "*   It should take the employee's name and salary as input and display both.\n",
        "*   If the salary is not provided in the function call, assign a default value of 9000 to it.\n",
        "\n",
        "After passing:\n",
        "\n",
        "showEmployee(\"Bill Gates\", 12000)\n",
        "\n",
        "showEmployee(\"Elon Musk\")\n",
        "\n",
        "It should print:\n",
        "\n",
        "Name: Bill Gates salary: 12000\n",
        "\n",
        "Name: Elon Musk salary: 9000"
      ],
      "metadata": {
        "id": "jwSKpPcYv_De"
      }
    },
    {
      "cell_type": "code",
      "source": [
        "#write here and run the cell\n",
        "\n",
        "def show_employee(name, salary=9000):\n",
        "    print(f\"Name: {name} salary: {salary}\")\n",
        "\n",
        "# Test the function with the provided examples\n",
        "show_employee(\"Bill Gates\", 12000)\n",
        "show_employee(\"Elon Musk\")\n"
      ],
      "metadata": {
        "id": "yyzhkF1Lv94j",
        "colab": {
          "base_uri": "https://localhost:8080/"
        },
        "outputId": "50d603d6-f86c-4d5f-9a85-9eaea5c71dcc"
      },
      "execution_count": 1,
      "outputs": [
        {
          "output_type": "stream",
          "name": "stdout",
          "text": [
            "Name: Bill Gates salary: 12000\n",
            "Name: Elon Musk salary: 9000\n"
          ]
        }
      ]
    },
    {
      "cell_type": "markdown",
      "source": [
        ":Q8. Write a program to identify words that contain both letters and digits from a given input string.\n",
        "\n",
        "    Given str1 = \"Harry25 is Gryffindor Wizard50 and cursed\"\n",
        "\n",
        "    Output:\n",
        "    Harry25\n",
        "    Wizard50"
      ],
      "metadata": {
        "id": "BAtCQH3pxXWV"
      }
    },
    {
      "cell_type": "code",
      "source": [
        "#write here and run the cell\n",
        "\n",
        "import re\n",
        "\n",
        "def find_words_with_letters_and_digits(input_string):\n",
        "    # Split the input string into words\n",
        "    words = input_string.split()\n",
        "\n",
        "    # List to store words containing both letters and digits\n",
        "    result = []\n",
        "\n",
        "    # Iterate through each word\n",
        "    for word in words:\n",
        "        # Check if the word contains both letters and digits using regex\n",
        "        if re.search(r'[a-zA-Z]', word) and re.search(r'\\d', word):\n",
        "            result.append(word)\n",
        "\n",
        "    return result\n",
        "\n",
        "# Example usage\n",
        "str1 = \"Harry25 is Gryffindor Wizard50 and cursed\"\n",
        "words_with_both = find_words_with_letters_and_digits(str1)\n",
        "\n",
        "# Print the result\n",
        "for word in words_with_both:\n",
        "    print(word)\n"
      ],
      "metadata": {
        "id": "bqbyxYdqvJHY",
        "colab": {
          "base_uri": "https://localhost:8080/"
        },
        "outputId": "8972af4d-9d0c-44e0-bb20-846451127c86"
      },
      "execution_count": 2,
      "outputs": [
        {
          "output_type": "stream",
          "name": "stdout",
          "text": [
            "Harry25\n",
            "Wizard50\n"
          ]
        }
      ]
    },
    {
      "cell_type": "markdown",
      "source": [
        "Q9. Write a program to substitute each special character in the given string with the symbol #.\n",
        "\n",
        "    Given: str1 = '/*Modi is @Politician & Melony!!'\n",
        "\n",
        "    Output: ##Modi is #Politician # Melony##"
      ],
      "metadata": {
        "id": "Ev6TIw7oyGzJ"
      }
    },
    {
      "cell_type": "code",
      "source": [
        "#write here and run the cell\n",
        "\n",
        "import re\n",
        "\n",
        "def replace_special_characters(input_string):\n",
        "    # Replace all special characters with '#'\n",
        "    result = re.sub(r'[^a-zA-Z0-9\\s]', '#', input_string)\n",
        "    return result\n",
        "\n",
        "# Example usage\n",
        "str1 = '/*Modi is @Politician & Melony!!'\n",
        "output = replace_special_characters(str1)\n",
        "print(output)"
      ],
      "metadata": {
        "id": "Hbg92hJtvJE7",
        "colab": {
          "base_uri": "https://localhost:8080/"
        },
        "outputId": "56fe9efd-2102-4081-e2e6-d5501314d42f"
      },
      "execution_count": 3,
      "outputs": [
        {
          "output_type": "stream",
          "name": "stdout",
          "text": [
            "##Modi is #Politician # Melony##\n"
          ]
        }
      ]
    },
    {
      "cell_type": "markdown",
      "source": [
        "Q10. Construct a Python set that displays elements from both lists as pairs.\n",
        "\n",
        "    Given:\n",
        "\n",
        "    first_list = [2, 3, 4, 5, 6, 7, 8]\n",
        "    second_list = [4, 9, 16, 25, 36, 49, 64]\n",
        "    Output: Result is  {(6, 36), (8, 64), (4, 16), (5, 25), (3, 9), (7, 49), (2, 4)}"
      ],
      "metadata": {
        "id": "L9zg8k_XyoMz"
      }
    },
    {
      "cell_type": "code",
      "source": [
        "#write here and run the cell\n",
        "\n",
        "def create_pairs_set(first_list, second_list):\n",
        "    # Create a set of pairs using zip to pair corresponding elements from both lists\n",
        "    result_set = set(zip(first_list, second_list))\n",
        "    return result_set\n",
        "\n",
        "# Example usage\n",
        "first_list = [2, 3, 4, 5, 6, 7, 8]\n",
        "second_list = [4, 9, 16, 25, 36, 49, 64]\n",
        "\n",
        "result = create_pairs_set(first_list, second_list)\n",
        "print(\"Result is\", result)\n"
      ],
      "metadata": {
        "id": "aSBw6V0OvJCS",
        "colab": {
          "base_uri": "https://localhost:8080/"
        },
        "outputId": "e9c4bde4-e7d9-4fbe-d40d-d1ddacc2e54d"
      },
      "execution_count": 4,
      "outputs": [
        {
          "output_type": "stream",
          "name": "stdout",
          "text": [
            "Result is {(7, 49), (2, 4), (4, 16), (8, 64), (6, 36), (3, 9), (5, 25)}\n"
          ]
        }
      ]
    },
    {
      "cell_type": "markdown",
      "source": [
        "Q11. Define two set A and B consisting of 5 elements. Now print the element after performing\n",
        "\n",
        "\n",
        "      1.   A-B\n",
        "      2.   B-A\n",
        "      3.   A∩B\n",
        "      4.   A∪B\n",
        "\n",
        "\n"
      ],
      "metadata": {
        "id": "JHa0SMOozZo9"
      }
    },
    {
      "cell_type": "code",
      "source": [
        "#write here and run the cell\n",
        "\n",
        "# Define two sets A and B\n",
        "A = {1, 2, 3, 4, 5}\n",
        "B = {4, 5, 6, 7, 8}\n",
        "\n",
        "# 1. A - B (Difference: Elements in A but not in B)\n",
        "print(\"A - B:\", A - B)\n",
        "\n",
        "# 2. B - A (Difference: Elements in B but not in A)\n",
        "print(\"B - A:\", B - A)\n",
        "\n",
        "# 3. A ∩ B (Intersection: Elements common to both A and B)\n",
        "print(\"A ∩ B:\", A & B)\n",
        "\n",
        "# 4. A ∪ B (Union: All elements from both A and B, without duplicates)\n",
        "print(\"A ∪ B:\", A | B)\n"
      ],
      "metadata": {
        "id": "r9vL1bpHzZGg",
        "colab": {
          "base_uri": "https://localhost:8080/"
        },
        "outputId": "8d11785e-6b04-4415-e373-0842a6aeb14a"
      },
      "execution_count": 5,
      "outputs": [
        {
          "output_type": "stream",
          "name": "stdout",
          "text": [
            "A - B: {1, 2, 3}\n",
            "B - A: {8, 6, 7}\n",
            "A ∩ B: {4, 5}\n",
            "A ∪ B: {1, 2, 3, 4, 5, 6, 7, 8}\n"
          ]
        }
      ]
    },
    {
      "cell_type": "markdown",
      "source": [
        "## Object Oriented Programming Exercise 1:\n",
        "\n",
        "[Classes and Objects in Python](https://pynative.com/python-classes-and-objects/)\n",
        "\n",
        "[Instance variables in Python](https://pynative.com/python-instance-variables/)"
      ],
      "metadata": {
        "id": "UFjTtL_i00dz"
      }
    },
    {
      "cell_type": "markdown",
      "source": [
        "Q12. Create a Vehicle class with max_speed and mileage instance attributes."
      ],
      "metadata": {
        "id": "-PQELvq41z5B"
      }
    },
    {
      "cell_type": "code",
      "source": [
        "#write here and run the cell\n",
        "\n",
        "class Vehicle:\n",
        "  def __init__(self,max_speed,mileage):\n",
        "    self.max_speed = max_speed\n",
        "    self.mileage = mileage\n",
        "\n",
        "wagonr = Vehicle(160,15)\n",
        "print(wagonr.max_speed)\n",
        "wagonr.mileage\n"
      ],
      "metadata": {
        "id": "Wa16l5-C0z3Z",
        "colab": {
          "base_uri": "https://localhost:8080/"
        },
        "outputId": "63f20bc0-f64b-4c77-a6e2-3a26c841dd0e"
      },
      "execution_count": null,
      "outputs": [
        {
          "output_type": "stream",
          "name": "stdout",
          "text": [
            "160\n"
          ]
        },
        {
          "output_type": "execute_result",
          "data": {
            "text/plain": [
              "15"
            ]
          },
          "metadata": {},
          "execution_count": 3
        }
      ]
    },
    {
      "cell_type": "markdown",
      "source": [
        "Q13. Create a child class Bus that will inherit all of the variables and methods of the Vehicle class.\n",
        "\n",
        "Create a Bus object that will inherit all of the variables and methods of the parent Vehicle class and display it."
      ],
      "metadata": {
        "id": "-Japqg35177L"
      }
    },
    {
      "cell_type": "code",
      "source": [
        "#write here and run the cell\n",
        "class Bus(Vehicle):\n",
        "\n",
        "  pass\n",
        "\n",
        "Bus_r = Bus(160,15)\n",
        "\n",
        "Bus_r.mileage\n",
        "\n",
        "\n"
      ],
      "metadata": {
        "id": "nUvpX3qR2Upg",
        "colab": {
          "base_uri": "https://localhost:8080/"
        },
        "outputId": "b163f7ed-7b35-42c6-edb1-882b14b35f96"
      },
      "execution_count": null,
      "outputs": [
        {
          "output_type": "execute_result",
          "data": {
            "text/plain": [
              "15"
            ]
          },
          "metadata": {},
          "execution_count": 4
        }
      ]
    },
    {
      "cell_type": "markdown",
      "source": [
        "### Class Inheritance\n",
        "\n",
        "Q14. Create a Bus class that inherits from the Vehicle class. Give the capacity argument of Bus.seating_capacity() a default value of 50.\n",
        "\n",
        "Use the following code for your parent Vehicle class.\n",
        "\n",
        "    class Vehicle:\n",
        "      def __init__(self, name, max_speed, mileage):\n",
        "          self.name = name\n",
        "          self.max_speed = max_speed\n",
        "          self.mileage = mileage\n",
        "\n",
        "      def seating_capacity(self, capacity):\n",
        "          return f\"The seating capacity of a {self.name} is {capacity} passengers\"\n",
        "\n",
        "Expected Output:\n",
        "\n",
        "    The seating capacity of a bus is 50 passengers"
      ],
      "metadata": {
        "id": "fPFfg2Hh2VBe"
      }
    },
    {
      "cell_type": "code",
      "source": [
        "#write here and run the cell\n",
        "\n",
        "class Vehicle:\n",
        "  def __init__(self, name, max_speed, mileage):\n",
        "      self.name = name\n",
        "      self.max_speed = max_speed\n",
        "      self.mileage = mileage\n",
        "\n",
        "  def seating_capacity(self, capacity):\n",
        "      return f\"The seating capacity of a {self.name} is {capacity} passengers\"\n",
        "\n",
        "\n",
        "class Bus(Vehicle):\n",
        "    def seating_capacity(self, capacity=50):\n",
        "        return super().seating_capacity(capacity)\n",
        "\n",
        "b1 = Bus(\"1\",100,20)\n",
        "b1.seating_capacity()"
      ],
      "metadata": {
        "id": "TKalMy1B2_Ix",
        "colab": {
          "base_uri": "https://localhost:8080/",
          "height": 36
        },
        "outputId": "3294ac83-c4a9-4d6c-c48f-68aea3477608"
      },
      "execution_count": null,
      "outputs": [
        {
          "output_type": "execute_result",
          "data": {
            "text/plain": [
              "'The seating capacity of a 1 is 50 passengers'"
            ],
            "application/vnd.google.colaboratory.intrinsic+json": {
              "type": "string"
            }
          },
          "metadata": {},
          "execution_count": 11
        }
      ]
    },
    {
      "cell_type": "markdown",
      "source": [
        "Q15. Create a Bus subclass that inherits from the Vehicle class. By default, the fare for any vehicle is calculated as the seating capacity multiplied by 100. For instances of the Bus class, an additional 10% maintenance fee should be applied to the total fare. Therefore, the final fare for a bus instance will be the sum of the total fare plus an additional 10% of that total fare.\n",
        "\n",
        "Note: The bus has a seating capacity of 50, so the final fare amount should be 5500. You need to override the fare() method from the Vehicle class in the Bus class.\n",
        "\n",
        "Use the provided code for the parent Vehicle class. You should access the parent class within a method of the child class.\n",
        "\n",
        "    class Vehicle:\n",
        "      def __init__(self, name, mileage, capacity):\n",
        "        self.name = name\n",
        "        self.mileage = mileage\n",
        "        self.capacity = capacity\n",
        "\n",
        "      def fare(self):\n",
        "        return self.capacity * 100\n",
        "\n",
        "    class Bus(Vehicle):\n",
        "        pass\n",
        "        School_bus = Bus(\"School Volvo\", 12, 50)\n",
        "        print(\"Total Bus fare is:\", School_bus.fare())\n",
        "\n",
        "    Expected Output:\n",
        "\n",
        "    Total Bus fare is: 5500.0"
      ],
      "metadata": {
        "id": "kenJ766m2_jc"
      }
    },
    {
      "cell_type": "code",
      "source": [
        "#write here and run the cell\n",
        "\n",
        "class Vehicle:\n",
        "  def __init__(self, name, mileage, capacity):\n",
        "    self.name = name\n",
        "    self.mileage = mileage\n",
        "    self.capacity = capacity\n",
        "\n",
        "  def fare(self):\n",
        "    return self.capacity * 100\n",
        "\n",
        "class Bus(Vehicle):\n",
        "    def fare(self):\n",
        "      fare = self.capacity * 100\n",
        "\n",
        "      return fare + fare*0.1\n",
        "\n",
        "School_bus = Bus(\"School Volvo\", 12, 50)\n",
        "print(\"Total Bus fare is:\", School_bus.fare())\n"
      ],
      "metadata": {
        "id": "jY3Z5SsY_iaQ",
        "colab": {
          "base_uri": "https://localhost:8080/"
        },
        "outputId": "3959c963-c3e6-4611-eebc-18970f0d263b"
      },
      "execution_count": null,
      "outputs": [
        {
          "output_type": "stream",
          "name": "stdout",
          "text": [
            "Total Bus fare is: 5500.0\n"
          ]
        }
      ]
    },
    {
      "cell_type": "markdown",
      "source": [
        "### Python JSON Exercise\n",
        "Refer: [Python JSON tutorials](https://pynative.com/python/json/)"
      ],
      "metadata": {
        "id": "3wMvLEkk_nWE"
      }
    },
    {
      "cell_type": "markdown",
      "source": [
        "Q16. Convert the following dictionary into JSON format\n",
        "\n",
        "    data = {\"key1\" : \"value1\", \"key2\" : \"value2\"}\n",
        "    data = {\"key1\" : \"value1\", \"key2\" : \"value2\"}"
      ],
      "metadata": {
        "id": "zVIiuI0PAcuT"
      }
    },
    {
      "cell_type": "code",
      "source": [
        "#write here and run the cell\n",
        "import json\n",
        "data = {\"key1\" : \"value1\", \"key2\" : \"value2\"}\n",
        "data_1 = json.dumps(data)\n",
        "\n",
        "type(data_1)"
      ],
      "metadata": {
        "id": "Z5M47OYS_mhA",
        "colab": {
          "base_uri": "https://localhost:8080/"
        },
        "outputId": "667c7fce-7ad0-4bc6-e108-e8d9b101f4ea"
      },
      "execution_count": null,
      "outputs": [
        {
          "output_type": "execute_result",
          "data": {
            "text/plain": [
              "str"
            ]
          },
          "metadata": {},
          "execution_count": 10
        }
      ]
    },
    {
      "cell_type": "markdown",
      "source": [
        "Q17. Sort JSON keys in and write them into a file\n",
        "\n",
        "    sampleJson = {\"id\" : 1, \"name\" : \"value2\", \"age\" : 29}\n",
        "\n",
        "    {\n",
        "          \"age\": 29,\n",
        "          \"id\": 1,\n",
        "          \"name\": \"value2\"\n",
        "    }"
      ],
      "metadata": {
        "id": "8eE35QccA_X-"
      }
    },
    {
      "cell_type": "code",
      "source": [
        "\n",
        "#write here and run the cell\n",
        "sampleJson = {\"id\" : 1, \"name\" : \"value2\", \"age\" : 29}\n",
        "\n",
        "{\n",
        "      \"age\": 29,\n",
        "      \"id\": 1,\n",
        "      \"name\": \"value2\"\n",
        "}\n",
        "\n",
        "# Convert the dictionary to a JSON string with sorted keys\n",
        "json_str = json.dumps(sampleJson, sort_keys=True, indent=4)\n",
        "\n",
        "# Print the JSON string\n",
        "print(json_str)"
      ],
      "metadata": {
        "id": "jLG5tk_X_j5O",
        "colab": {
          "base_uri": "https://localhost:8080/"
        },
        "outputId": "ffd0554b-46a7-4519-8fe2-c5ba24e8ea0d"
      },
      "execution_count": null,
      "outputs": [
        {
          "output_type": "stream",
          "name": "stdout",
          "text": [
            "{\n",
            "    \"age\": 29,\n",
            "    \"id\": 1,\n",
            "    \"name\": \"value2\"\n",
            "}\n"
          ]
        }
      ]
    }
  ]
}